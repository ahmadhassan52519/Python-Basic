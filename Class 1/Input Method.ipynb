{
 "cells": [
  {
   "cell_type": "code",
   "execution_count": 2,
   "metadata": {},
   "outputs": [
    {
     "name": "stdout",
     "output_type": "stream",
     "text": [
      "7\n"
     ]
    }
   ],
   "source": [
    "a = 4 \n",
    "b = 3 \n",
    "print(a + b )\n",
    "#a+b"
   ]
  },
  {
   "cell_type": "code",
   "execution_count": 4,
   "metadata": {},
   "outputs": [
    {
     "name": "stdout",
     "output_type": "stream",
     "text": [
      "Enter number  2\n",
      "Enter numbewr 23\n",
      "23\n",
      "<class 'str'>\n"
     ]
    }
   ],
   "source": [
    "\n",
    "\n",
    "c = input(\"Enter number  \")\n",
    "c1 = input(\"Enter numbewr 2\")\n",
    "print(c + c1)\n",
    "print(type(c))"
   ]
  },
  {
   "cell_type": "code",
   "execution_count": 7,
   "metadata": {},
   "outputs": [
    {
     "name": "stdout",
     "output_type": "stream",
     "text": [
      "Enter number  2\n",
      "Enter number3\n",
      "5\n",
      "<class 'int'>\n"
     ]
    }
   ],
   "source": [
    "d = int(input(\"Enter number  \"))\n",
    "d1 = int(input(\"Enter number\"))\n",
    "print(d + d1)\n",
    "print(type(d))"
   ]
  },
  {
   "cell_type": "code",
   "execution_count": 9,
   "metadata": {},
   "outputs": [
    {
     "name": "stdout",
     "output_type": "stream",
     "text": [
      "Enter number  2.3\n",
      "Enter number3.6\n",
      "8.28\n",
      "<class 'float'>\n"
     ]
    }
   ],
   "source": [
    "f = float(input(\"Enter number  \"))\n",
    "f1 = float(input(\"Enter number\"))\n",
    "print(f * f1 )\n",
    "print(type(f))"
   ]
  },
  {
   "cell_type": "code",
   "execution_count": null,
   "metadata": {},
   "outputs": [],
   "source": []
  }
 ],
 "metadata": {
  "kernelspec": {
   "display_name": "Python 3",
   "language": "python",
   "name": "python3"
  },
  "language_info": {
   "codemirror_mode": {
    "name": "ipython",
    "version": 3
   },
   "file_extension": ".py",
   "mimetype": "text/x-python",
   "name": "python",
   "nbconvert_exporter": "python",
   "pygments_lexer": "ipython3",
   "version": "3.8.3"
  }
 },
 "nbformat": 4,
 "nbformat_minor": 4
}
