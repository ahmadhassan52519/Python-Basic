{
 "cells": [
  {
   "cell_type": "code",
   "execution_count": 1,
   "metadata": {},
   "outputs": [
    {
     "name": "stdout",
     "output_type": "stream",
     "text": [
      "My name is Ahmed Hassan\n"
     ]
    }
   ],
   "source": [
    "print(\"My name is Ahmed Hassan\")"
   ]
  },
  {
   "cell_type": "code",
   "execution_count": 5,
   "metadata": {},
   "outputs": [
    {
     "ename": "SyntaxError",
     "evalue": "invalid syntax (<ipython-input-5-f70954ee0b1c>, line 1)",
     "output_type": "error",
     "traceback": [
      "\u001b[0;36m  File \u001b[0;32m\"<ipython-input-5-f70954ee0b1c>\"\u001b[0;36m, line \u001b[0;32m1\u001b[0m\n\u001b[0;31m    Name =  # input(\"Enter name\")\u001b[0m\n\u001b[0m            ^\u001b[0m\n\u001b[0;31mSyntaxError\u001b[0m\u001b[0;31m:\u001b[0m invalid syntax\n"
     ]
    }
   ],
   "source": [
    "Name =  \"Ahmed Hassan\"# input(\"Enter name\")\n",
    "Age  =  26 #int(input(\"Enter Age\"))\n",
    "Weight = 170.00\n",
    "\n",
    "print(\"My name is {} and my age is {}\".format(Name,Age))\n",
    "print(\"My name is {one} and my age is {two}\".format(one=Name,two=Age))\n",
    "\n",
    "\n",
    "print(\"My name is {one} and my age is {two} and {one} is a Data Scientist\".format(one=Name,two=Age))"
   ]
  },
  {
   "cell_type": "code",
   "execution_count": 8,
   "metadata": {},
   "outputs": [
    {
     "name": "stdout",
     "output_type": "stream",
     "text": [
      "My name is Ahmed HAssan and my age is 26 and my weight is 170.000000\n"
     ]
    }
   ],
   "source": [
    "\n",
    "print(\"My name is %s and my age is %d and my weight is %f\" % (Name,Age,Weight))\n",
    "\n",
    "#print(\"My name is %d and my age is %f and my weight is %s\" % (Name,Age,Weight))"
   ]
  },
  {
   "cell_type": "code",
   "execution_count": 10,
   "metadata": {},
   "outputs": [
    {
     "name": "stdout",
     "output_type": "stream",
     "text": [
      "my name is Ahmed HAssan and my age is 26 and my weight is 170.0\n"
     ]
    }
   ],
   "source": [
    "print(f\"my name is {Name} and my age is {Age} and my weight is {Weight}\")"
   ]
  },
  {
   "cell_type": "code",
   "execution_count": null,
   "metadata": {},
   "outputs": [],
   "source": []
  }
 ],
 "metadata": {
  "kernelspec": {
   "display_name": "Python 3",
   "language": "python",
   "name": "python3"
  },
  "language_info": {
   "codemirror_mode": {
    "name": "ipython",
    "version": 3
   },
   "file_extension": ".py",
   "mimetype": "text/x-python",
   "name": "python",
   "nbconvert_exporter": "python",
   "pygments_lexer": "ipython3",
   "version": "3.8.3"
  }
 },
 "nbformat": 4,
 "nbformat_minor": 4
}
