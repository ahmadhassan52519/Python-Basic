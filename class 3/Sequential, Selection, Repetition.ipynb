{
 "cells": [
  {
   "cell_type": "markdown",
   "metadata": {},
   "source": [
    "# For Loop"
   ]
  },
  {
   "cell_type": "code",
   "execution_count": 2,
   "metadata": {},
   "outputs": [
    {
     "name": "stdout",
     "output_type": "stream",
     "text": [
      "3\n",
      "4\n"
     ]
    }
   ],
   "source": [
    "for x in range(3,5):  #0 to n-1     for(int i = 0;i <= 10 ; i ++)\n",
    "    print(x)"
   ]
  },
  {
   "cell_type": "code",
   "execution_count": 3,
   "metadata": {},
   "outputs": [
    {
     "name": "stdout",
     "output_type": "stream",
     "text": [
      "3\n",
      "4\n",
      "5\n"
     ]
    }
   ],
   "source": [
    "for x in range(3, 6):    \n",
    "    print(x)"
   ]
  },
  {
   "cell_type": "code",
   "execution_count": 4,
   "metadata": {},
   "outputs": [
    {
     "name": "stdout",
     "output_type": "stream",
     "text": [
      "3\n",
      "5\n",
      "7\n"
     ]
    }
   ],
   "source": [
    "for x in range(3, 8, 2):\n",
    "    print(x)"
   ]
  },
  {
   "cell_type": "code",
   "execution_count": 6,
   "metadata": {},
   "outputs": [
    {
     "name": "stdout",
     "output_type": "stream",
     "text": [
      "Enter Table No45\n",
      "45 * 1 = 45\n",
      "45 * 2 = 90\n",
      "45 * 3 = 135\n",
      "45 * 4 = 180\n",
      "45 * 5 = 225\n",
      "45 * 6 = 270\n",
      "45 * 7 = 315\n",
      "45 * 8 = 360\n",
      "45 * 9 = 405\n",
      "45 * 10 = 450\n"
     ]
    }
   ],
   "source": [
    "y = int(input(\"Enter Table No\")) # by default value in int \n",
    "\n",
    "for x in range(1,11):\n",
    "    print(f\"{y} * {x} = {y * x}\")"
   ]
  },
  {
   "cell_type": "markdown",
   "metadata": {},
   "source": [
    "# if elif else"
   ]
  },
  {
   "cell_type": "code",
   "execution_count": 8,
   "metadata": {},
   "outputs": [
    {
     "name": "stdout",
     "output_type": "stream",
     "text": [
      "first\n",
      "j Second\n"
     ]
    }
   ],
   "source": [
    "i=1\n",
    "j = 2\n",
    "if i==1:\n",
    "    print('first')\n",
    "    if j == 2:\n",
    "        print(\"j Second\")\n",
    "elif i==4:\n",
    "    print('second')\n",
    "elif i==3:\n",
    "    print('middle')\n",
    "else:\n",
    "    print('last')"
   ]
  },
  {
   "cell_type": "markdown",
   "metadata": {},
   "source": [
    "# While Loop"
   ]
  },
  {
   "cell_type": "code",
   "execution_count": 10,
   "metadata": {},
   "outputs": [
    {
     "name": "stdout",
     "output_type": "stream",
     "text": [
      "i is: 5\n",
      "i is: 10\n",
      "i is: 15\n",
      "i is: 20\n"
     ]
    }
   ],
   "source": [
    "i = 1\n",
    "while i < 5:\n",
    "    print('i is: {one}'.format(one=i*5))\n",
    "    i = i+1"
   ]
  },
  {
   "cell_type": "markdown",
   "metadata": {},
   "source": [
    "# Continue"
   ]
  },
  {
   "cell_type": "code",
   "execution_count": 18,
   "metadata": {},
   "outputs": [
    {
     "name": "stdout",
     "output_type": "stream",
     "text": [
      "Enter range23\n",
      "2\n"
     ]
    }
   ],
   "source": [
    "y = int(input(\"Enter range\"))\n",
    "\n",
    "\n",
    "for x in range(1,y):\n",
    "    if x % 2 == 0:\n",
    "        print(x)\n",
    "        break\n",
    "        #continue\n",
    "    #print(x)"
   ]
  },
  {
   "cell_type": "markdown",
   "metadata": {},
   "source": [
    "# Break"
   ]
  },
  {
   "cell_type": "code",
   "execution_count": 10,
   "metadata": {},
   "outputs": [
    {
     "name": "stdout",
     "output_type": "stream",
     "text": [
      "0\n",
      "1\n",
      "2\n",
      "3\n",
      "4\n",
      "MHM\n"
     ]
    }
   ],
   "source": [
    "count = 0\n",
    "while True:   \n",
    "    print(count)    \n",
    "    count += 1    \n",
    "    if count >= 5:        \n",
    "        break\n",
    "print(\"MHM\")"
   ]
  },
  {
   "cell_type": "markdown",
   "metadata": {},
   "source": [
    "# Calculator"
   ]
  },
  {
   "cell_type": "code",
   "execution_count": 28,
   "metadata": {},
   "outputs": [
    {
     "name": "stdout",
     "output_type": "stream",
     "text": [
      "2 * 3 4\n",
      "Multiple:6\n"
     ]
    }
   ],
   "source": [
    "x = input()\n",
    "\n",
    "data  =  x.split()\n",
    "\n",
    "#print(data[0])\n",
    "\n",
    "if data[1] == \"+\":\n",
    "    print(f\"added:{int(data[0]) + int(data[2])}\")\n",
    "elif data[1] == \"-\":\n",
    "    print(f\"subsract:{int(data[0]) - int(data[2])}\")    \n",
    "elif data[1] == \"*\":\n",
    "    print(f\"Multiple:{int(data[0]) * int(data[2])}\")\n",
    "elif data[1] == \"/\":\n",
    "    print(f\"Divided:{int(data[0]) / int(data[2])}\")\n",
    "else:\n",
    "    print(\"Invaild Input\")"
   ]
  },
  {
   "cell_type": "code",
   "execution_count": 26,
   "metadata": {},
   "outputs": [
    {
     "name": "stdout",
     "output_type": "stream",
     "text": [
      "<class 'str'>\n",
      "['2', '*', '3']\n",
      "<class 'list'>\n",
      "3\n"
     ]
    }
   ],
   "source": [
    "x = \"2 * 3\" #input()\n",
    "print(type(x))\n",
    "data  =  x.split()\n",
    "\n",
    "print(data)\n",
    "print(type(data))\n",
    "print(data[2])"
   ]
  },
  {
   "cell_type": "code",
   "execution_count": null,
   "metadata": {},
   "outputs": [],
   "source": []
  }
 ],
 "metadata": {
  "kernelspec": {
   "display_name": "Python 3",
   "language": "python",
   "name": "python3"
  },
  "language_info": {
   "codemirror_mode": {
    "name": "ipython",
    "version": 3
   },
   "file_extension": ".py",
   "mimetype": "text/x-python",
   "name": "python",
   "nbconvert_exporter": "python",
   "pygments_lexer": "ipython3",
   "version": "3.8.3"
  }
 },
 "nbformat": 4,
 "nbformat_minor": 4
}
