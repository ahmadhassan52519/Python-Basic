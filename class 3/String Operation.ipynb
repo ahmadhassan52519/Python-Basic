{
 "cells": [
  {
   "cell_type": "code",
   "execution_count": 1,
   "metadata": {},
   "outputs": [],
   "source": [
    "var = \"My name is Ahmed Hassan and my age is 26\"\n"
   ]
  },
  {
   "cell_type": "code",
   "execution_count": 12,
   "metadata": {},
   "outputs": [
    {
     "name": "stdout",
     "output_type": "stream",
     "text": [
      "My name is Ahmed Hassan and my age is 26\n",
      "<class 'str'>\n",
      "y\n",
      "My name is Ahmed Hassan and my age is 26\n",
      " name is\n",
      "6\n",
      "2\n",
      "62 si ega ym dna nassaH demhA si eman yM\n",
      "True\n",
      "False\n"
     ]
    }
   ],
   "source": [
    "print(var)\n",
    "print(type(var))\n",
    "print(var[1])\n",
    "print(var[:])\n",
    "print(var[2:10])\n",
    "        # 2 start point 10 end point \n",
    "print(var[-1])\n",
    "print(var[-2])\n",
    "print(var[::-1])\n",
    "\n",
    "print(\"a\" in var)\n",
    "print(\"z\" in var)"
   ]
  },
  {
   "cell_type": "code",
   "execution_count": 14,
   "metadata": {},
   "outputs": [
    {
     "name": "stdout",
     "output_type": "stream",
     "text": [
      "AhmedHassan\n",
      "AhmedAhmedAhmed\n"
     ]
    }
   ],
   "source": [
    "var1 = \"Ahmed\"\n",
    "var2 = \"Hassan\"\n",
    "\n",
    "print(var1 + var2)\n",
    "print(3*var1)"
   ]
  },
  {
   "cell_type": "code",
   "execution_count": 28,
   "metadata": {},
   "outputs": [
    {
     "name": "stdout",
     "output_type": "stream",
     "text": [
      "I like you i i \n",
      "I love you i i \n",
      "i love you i i \n",
      "I LOVE YOU I I \n",
      "I love you i i \n",
      "['I', 'love', 'you', 'i', 'i']\n"
     ]
    }
   ],
   "source": [
    "old = \"I like you i i \"\n",
    "print(old)\n",
    "new = old.replace('like','love')\n",
    "print(new)\n",
    "print(new.lower())\n",
    "print(new.upper())\n",
    "print(new.capitalize())\n",
    "print(new.split())"
   ]
  },
  {
   "cell_type": "code",
   "execution_count": 36,
   "metadata": {},
   "outputs": [
    {
     "name": "stdout",
     "output_type": "stream",
     "text": [
      "8\n",
      "A A A A h m e d\n",
      "A-A-A-A-h-m-e-d\n"
     ]
    }
   ],
   "source": [
    "name = \"AAAAhmed\"\n",
    "print(len(name))\n",
    "print((\" \".join(name)))\n",
    "print((\"-\".join(name)))"
   ]
  },
  {
   "cell_type": "code",
   "execution_count": 38,
   "metadata": {},
   "outputs": [
    {
     "name": "stdout",
     "output_type": "stream",
     "text": [
      "3\n",
      "4\n"
     ]
    }
   ],
   "source": [
    "print(old.count('i'))\n",
    "print(name.count('A',0,5))"
   ]
  },
  {
   "cell_type": "code",
   "execution_count": 39,
   "metadata": {},
   "outputs": [
    {
     "name": "stdout",
     "output_type": "stream",
     "text": [
      "4\n"
     ]
    }
   ],
   "source": [
    "print(name.index(\"h\"))"
   ]
  },
  {
   "cell_type": "code",
   "execution_count": 42,
   "metadata": {},
   "outputs": [
    {
     "name": "stdout",
     "output_type": "stream",
     "text": [
      "True\n",
      "False\n"
     ]
    }
   ],
   "source": [
    "site = \"www.google.com\"\n",
    "print(site.endswith(\".com\"))\n",
    "print(site.endswith(\".ly\"))"
   ]
  },
  {
   "cell_type": "code",
   "execution_count": null,
   "metadata": {},
   "outputs": [],
   "source": []
  }
 ],
 "metadata": {
  "kernelspec": {
   "display_name": "Python 3",
   "language": "python",
   "name": "python3"
  },
  "language_info": {
   "codemirror_mode": {
    "name": "ipython",
    "version": 3
   },
   "file_extension": ".py",
   "mimetype": "text/x-python",
   "name": "python",
   "nbconvert_exporter": "python",
   "pygments_lexer": "ipython3",
   "version": "3.8.3"
  }
 },
 "nbformat": 4,
 "nbformat_minor": 4
}
