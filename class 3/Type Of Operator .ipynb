{
 "cells": [
  {
   "cell_type": "markdown",
   "metadata": {},
   "source": [
    "## Type of Operator\n",
    "\n",
    "python language supports the following typesof operators\n",
    "\n",
    "* Arithmetic Operators \n",
    "* Comparisan (Relational) Operator \n",
    "* Assignmnet Operator\n",
    "* Logical Operator \n",
    "* Bitwise Operator \n",
    "* Membership Operator \n",
    "* Identity Operator "
   ]
  },
  {
   "cell_type": "markdown",
   "metadata": {},
   "source": [
    "## Arithmetic Operators"
   ]
  },
  {
   "cell_type": "code",
   "execution_count": 7,
   "metadata": {},
   "outputs": [
    {
     "name": "stdout",
     "output_type": "stream",
     "text": [
      "11 + 2 = 13\n",
      "11 - 2 = 9\n",
      "11 * 2 = 22\n",
      "11 / 2 = 5.5\n",
      "11 // 2 = 5\n",
      "11 % 2 = 1\n",
      "11 power 2 = 121\n"
     ]
    }
   ],
   "source": [
    "a = 11 \n",
    "b = 2 \n",
    "\n",
    "print(f'{a} + {b} = {a+b}')\n",
    "print(f'{a} - {b} = {a-b}')\n",
    "print(f'{a} * {b} = {a*b}')\n",
    "print(f'{a} / {b} = {a/b}')\n",
    "print(f'{a} // {b} = {a//b}')\n",
    "print(f'{a} % {b} = {a%b}')\n",
    "print(f'{a} power {b} = {a**b}')"
   ]
  },
  {
   "cell_type": "markdown",
   "metadata": {},
   "source": [
    "## Comparisan (Relational) Operator"
   ]
  },
  {
   "cell_type": "code",
   "execution_count": 14,
   "metadata": {},
   "outputs": [
    {
     "name": "stdout",
     "output_type": "stream",
     "text": [
      "11 Equal to  2  = False\n",
      "11 Equal not to  2  = True\n",
      "11 greater then   2  = True\n",
      "11 less then   2  = False\n",
      "11 greater then and equal  2  = True\n",
      "11 less then and equal  2  = False\n"
     ]
    }
   ],
   "source": [
    "a = 11 \n",
    "b = 2 \n",
    "\n",
    "print(f'{a} Equal to  {b}  = {a==b}')\n",
    "print(f'{a} Equal not to  {b}  = {a!=b}')\n",
    "print(f'{a} greater then   {b}  = {a>b}')\n",
    "print(f'{a} less then   {b}  = {a<b}')\n",
    "print(f'{a} greater then and equal  {b}  = {a>=b}')\n",
    "print(f'{a} less then and equal  {b}  = {a<=b}')"
   ]
  },
  {
   "cell_type": "markdown",
   "metadata": {},
   "source": [
    "## Assignmnet Operator"
   ]
  },
  {
   "cell_type": "code",
   "execution_count": 22,
   "metadata": {},
   "outputs": [
    {
     "name": "stdout",
     "output_type": "stream",
     "text": [
      "24\n",
      "22\n",
      "44\n",
      "22.0\n",
      "11.0\n",
      "1.0\n",
      "1.0\n"
     ]
    }
   ],
   "source": [
    "c = 22 \n",
    "a = 2 \n",
    "\n",
    "c+=a\n",
    "#c = c + a\n",
    "print(c)\n",
    "c-=a\n",
    "print(c)\n",
    "c*=a\n",
    "print(c)\n",
    "c/=a\n",
    "print(c)\n",
    "c//=a\n",
    "print(c)\n",
    "c%=a\n",
    "print(c)\n",
    "c**=a\n",
    "print(c)"
   ]
  },
  {
   "cell_type": "markdown",
   "metadata": {},
   "source": [
    "## Bitwise Operator"
   ]
  },
  {
   "cell_type": "code",
   "execution_count": 3,
   "metadata": {},
   "outputs": [
    {
     "name": "stdout",
     "output_type": "stream",
     "text": [
      "a & b = 12\n",
      "0b1100\n",
      "a | b = 14\n",
      "0b1110\n",
      "~a = -15\n",
      "-0b1111\n",
      "a ^ b = 2\n",
      "0b10\n",
      "0b1010\n"
     ]
    }
   ],
   "source": [
    "a = 14    # 0 0  1\n",
    "b = 12 \n",
    "\n",
    "# Print bitwise AND operation    \n",
    "print(\"a & b =\", a & b)\n",
    "print(bin(a&b))\n",
    "    \n",
    "# Print bitwise OR operation  \n",
    "print(\"a | b =\", a | b)  \n",
    "print(bin(a|b))\n",
    "# Print bitwise NOT operation   \n",
    "print(\"~a =\", ~a)  \n",
    "print(bin(~a))    \n",
    "# print bitwise XOR operation   \n",
    "print(\"a ^ b =\", a ^ b) \n",
    "print(bin(a^b))\n",
    "\n",
    "print(bin(10))"
   ]
  },
  {
   "cell_type": "markdown",
   "metadata": {},
   "source": [
    "## Logical Operator "
   ]
  },
  {
   "cell_type": "code",
   "execution_count": 34,
   "metadata": {},
   "outputs": [
    {
     "name": "stdout",
     "output_type": "stream",
     "text": [
      "False\n",
      "True\n",
      "False\n"
     ]
    }
   ],
   "source": [
    "a = True\n",
    "b = False\n",
    "\n",
    "print(a and b)\n",
    "print(a or b)\n",
    "print(not a)"
   ]
  },
  {
   "cell_type": "markdown",
   "metadata": {},
   "source": [
    "## Membership Operator"
   ]
  },
  {
   "cell_type": "code",
   "execution_count": 37,
   "metadata": {},
   "outputs": [
    {
     "name": "stdout",
     "output_type": "stream",
     "text": [
      "True\n",
      "False\n"
     ]
    }
   ],
   "source": [
    "Country = \"Pakistan\"\n",
    "\n",
    "print(\"a\" in Country)\n",
    "print(\"USA\" in Country)"
   ]
  },
  {
   "cell_type": "code",
   "execution_count": 39,
   "metadata": {},
   "outputs": [
    {
     "name": "stdout",
     "output_type": "stream",
     "text": [
      "True\n",
      "False\n"
     ]
    }
   ],
   "source": [
    "lists = [1,2,3,4,5,6,7]\n",
    "\n",
    "print(2 in lists)\n",
    "print(9 in lists)"
   ]
  },
  {
   "cell_type": "markdown",
   "metadata": {},
   "source": [
    "## Identity Operator "
   ]
  },
  {
   "cell_type": "code",
   "execution_count": 40,
   "metadata": {},
   "outputs": [
    {
     "name": "stdout",
     "output_type": "stream",
     "text": [
      "False\n",
      "True\n"
     ]
    }
   ],
   "source": [
    "x = 3 \n",
    "y = 5 \n",
    "\n",
    "print(x is y )\n",
    "print(x is not y)"
   ]
  },
  {
   "cell_type": "code",
   "execution_count": null,
   "metadata": {},
   "outputs": [],
   "source": []
  }
 ],
 "metadata": {
  "kernelspec": {
   "display_name": "Python 3",
   "language": "python",
   "name": "python3"
  },
  "language_info": {
   "codemirror_mode": {
    "name": "ipython",
    "version": 3
   },
   "file_extension": ".py",
   "mimetype": "text/x-python",
   "name": "python",
   "nbconvert_exporter": "python",
   "pygments_lexer": "ipython3",
   "version": "3.8.3"
  }
 },
 "nbformat": 4,
 "nbformat_minor": 4
}
