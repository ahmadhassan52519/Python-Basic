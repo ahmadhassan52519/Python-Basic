{
 "cells": [
  {
   "cell_type": "code",
   "execution_count": 2,
   "metadata": {},
   "outputs": [
    {
     "ename": "IndentationError",
     "evalue": "unexpected indent (<ipython-input-2-57e45917c77d>, line 2)",
     "output_type": "error",
     "traceback": [
      "\u001b[0;36m  File \u001b[0;32m\"<ipython-input-2-57e45917c77d>\"\u001b[0;36m, line \u001b[0;32m2\u001b[0m\n\u001b[0;31m    b = 5\u001b[0m\n\u001b[0m    ^\u001b[0m\n\u001b[0;31mIndentationError\u001b[0m\u001b[0;31m:\u001b[0m unexpected indent\n"
     ]
    }
   ],
   "source": [
    "a = 4 \n",
    " b = 5\n"
   ]
  },
  {
   "cell_type": "code",
   "execution_count": 3,
   "metadata": {},
   "outputs": [
    {
     "name": "stdout",
     "output_type": "stream",
     "text": [
      "start\n",
      "a equal to 4 \n",
      "end\n"
     ]
    }
   ],
   "source": [
    "print('start')\n",
    "a = 4\n",
    "\n",
    "if a == 4:\n",
    "    print('a equal to 4 ')\n",
    "else:\n",
    "    print('a not equal to 4')\n",
    "print('end')    "
   ]
  },
  {
   "cell_type": "code",
   "execution_count": 4,
   "metadata": {},
   "outputs": [
    {
     "name": "stdout",
     "output_type": "stream",
     "text": [
      "start\n",
      "a equal to 4 \n",
      "end\n"
     ]
    }
   ],
   "source": [
    "print('start')\n",
    "a = 4\n",
    "\n",
    "if (a == 4):\n",
    "    \n",
    "    if(a!= 5 ):\n",
    "        \n",
    "        print('a equal to 4 ')\n",
    "else:\n",
    "    pass\n",
    "    \n",
    "\n",
    "\n",
    "print('end') "
   ]
  },
  {
   "cell_type": "code",
   "execution_count": null,
   "metadata": {},
   "outputs": [],
   "source": []
  }
 ],
 "metadata": {
  "kernelspec": {
   "display_name": "Python 3",
   "language": "python",
   "name": "python3"
  },
  "language_info": {
   "codemirror_mode": {
    "name": "ipython",
    "version": 3
   },
   "file_extension": ".py",
   "mimetype": "text/x-python",
   "name": "python",
   "nbconvert_exporter": "python",
   "pygments_lexer": "ipython3",
   "version": "3.8.3"
  }
 },
 "nbformat": 4,
 "nbformat_minor": 4
}
