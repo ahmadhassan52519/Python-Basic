{
 "cells": [
  {
   "cell_type": "code",
   "execution_count": 6,
   "metadata": {},
   "outputs": [
    {
     "name": "stdout",
     "output_type": "stream",
     "text": [
      "56\n",
      "44.0\n",
      "<class 'str'>\n",
      "('h', 'e', 'l', 'l', 'o')\n",
      "<class 'tuple'>\n",
      "['h', 'e', 'l', 'l', 'o']\n",
      "<class 'list'>\n"
     ]
    }
   ],
   "source": [
    "print(int(56.56))\n",
    "\n",
    "print(float(44))\n",
    "\n",
    "a='hello'\n",
    "print(type(a))\n",
    "\n",
    "b=tuple(a)\n",
    "print(b)\n",
    "print(type(b))\n",
    "\n",
    "c=list(a)\n",
    "print(c)\n",
    "print(type(c))"
   ]
  },
  {
   "cell_type": "code",
   "execution_count": null,
   "metadata": {},
   "outputs": [],
   "source": []
  }
 ],
 "metadata": {
  "kernelspec": {
   "display_name": "Python 3",
   "language": "python",
   "name": "python3"
  },
  "language_info": {
   "codemirror_mode": {
    "name": "ipython",
    "version": 3
   },
   "file_extension": ".py",
   "mimetype": "text/x-python",
   "name": "python",
   "nbconvert_exporter": "python",
   "pygments_lexer": "ipython3",
   "version": "3.8.3"
  }
 },
 "nbformat": 4,
 "nbformat_minor": 4
}
